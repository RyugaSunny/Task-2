{
 "cells": [
  {
   "cell_type": "code",
   "execution_count": 1,
   "metadata": {},
   "outputs": [],
   "source": [
    "import pandas as pd                         #importing pandas library"
   ]
  },
  {
   "cell_type": "code",
   "execution_count": 2,
   "metadata": {},
   "outputs": [],
   "source": [
    "df=pd.read_excel(\"in1.xlsx\")                            #opening the input file"
   ]
  },
  {
   "cell_type": "code",
   "execution_count": 3,
   "metadata": {},
   "outputs": [],
   "source": [
    "#making a list with all the test names\n",
    "\n",
    "l=[\"Name\",\"id\",\"Concept Test 1 - score\",\"Concept Test 2 - score\",\"Concept Test 3 - score\",\n",
    "\"Concept Test 4 - score\",\"Concept Test 5 - score\",\"Topic Test 1 - score\",\"Topic Test 2 - score\",\n",
    "\"Full Chapter Test 1 - score\",\"Full Chapter Test 2 - score\"]\n",
    "\n",
    "# melting the dataframe to shape it so as if in the output\n",
    "\n",
    "df1=pd.melt(df,id_vars=(\"Name\", \"id\",\"Chapter Tag\"),\n",
    "var_name=\"Test_name\",value_vars=l,value_name=\"Score\")    "
   ]
  },
  {
   "cell_type": "code",
   "execution_count": 4,
   "metadata": {},
   "outputs": [
    {
     "data": {
      "text/html": [
       "<div>\n",
       "<style scoped>\n",
       "    .dataframe tbody tr th:only-of-type {\n",
       "        vertical-align: middle;\n",
       "    }\n",
       "\n",
       "    .dataframe tbody tr th {\n",
       "        vertical-align: top;\n",
       "    }\n",
       "\n",
       "    .dataframe thead th {\n",
       "        text-align: right;\n",
       "    }\n",
       "</style>\n",
       "<table border=\"1\" class=\"dataframe\">\n",
       "  <thead>\n",
       "    <tr style=\"text-align: right;\">\n",
       "      <th></th>\n",
       "      <th>Name</th>\n",
       "      <th>id</th>\n",
       "      <th>Chapter Tag</th>\n",
       "      <th>Test_name</th>\n",
       "      <th>Score</th>\n",
       "    </tr>\n",
       "  </thead>\n",
       "  <tbody>\n",
       "    <tr>\n",
       "      <th>0</th>\n",
       "      <td>Darshan</td>\n",
       "      <td>34</td>\n",
       "      <td>C8S11</td>\n",
       "      <td>Concept Test 1 - score</td>\n",
       "      <td>4</td>\n",
       "    </tr>\n",
       "    <tr>\n",
       "      <th>1</th>\n",
       "      <td>Darshan</td>\n",
       "      <td>34</td>\n",
       "      <td>C8S11</td>\n",
       "      <td>Full Chapter Test 1 - score</td>\n",
       "      <td>6</td>\n",
       "    </tr>\n",
       "    <tr>\n",
       "      <th>2</th>\n",
       "      <td>Darshan</td>\n",
       "      <td>34</td>\n",
       "      <td>C8S11</td>\n",
       "      <td>Concept Test 5 - score</td>\n",
       "      <td>3</td>\n",
       "    </tr>\n",
       "    <tr>\n",
       "      <th>3</th>\n",
       "      <td>Darshan</td>\n",
       "      <td>34</td>\n",
       "      <td>C8S11</td>\n",
       "      <td>Concept Test 2 - score</td>\n",
       "      <td>1</td>\n",
       "    </tr>\n",
       "    <tr>\n",
       "      <th>4</th>\n",
       "      <td>Darshan</td>\n",
       "      <td>34</td>\n",
       "      <td>C8S11</td>\n",
       "      <td>Full Chapter Test 2 - score</td>\n",
       "      <td>6</td>\n",
       "    </tr>\n",
       "    <tr>\n",
       "      <th>...</th>\n",
       "      <td>...</td>\n",
       "      <td>...</td>\n",
       "      <td>...</td>\n",
       "      <td>...</td>\n",
       "      <td>...</td>\n",
       "    </tr>\n",
       "    <tr>\n",
       "      <th>100</th>\n",
       "      <td>Vignesh</td>\n",
       "      <td>47</td>\n",
       "      <td>C8S11</td>\n",
       "      <td>Concept Test 3 - score</td>\n",
       "      <td>1</td>\n",
       "    </tr>\n",
       "    <tr>\n",
       "      <th>101</th>\n",
       "      <td>Vignesh</td>\n",
       "      <td>47</td>\n",
       "      <td>C8S11</td>\n",
       "      <td>Topic Test 2 - score</td>\n",
       "      <td>6</td>\n",
       "    </tr>\n",
       "    <tr>\n",
       "      <th>102</th>\n",
       "      <td>Vignesh</td>\n",
       "      <td>47</td>\n",
       "      <td>C8S11</td>\n",
       "      <td>Concept Test 1 - score</td>\n",
       "      <td>3</td>\n",
       "    </tr>\n",
       "    <tr>\n",
       "      <th>103</th>\n",
       "      <td>Vignesh</td>\n",
       "      <td>47</td>\n",
       "      <td>C8S11</td>\n",
       "      <td>Concept Test 4 - score</td>\n",
       "      <td>2</td>\n",
       "    </tr>\n",
       "    <tr>\n",
       "      <th>104</th>\n",
       "      <td>Vignesh</td>\n",
       "      <td>47</td>\n",
       "      <td>C8S11</td>\n",
       "      <td>Topic Test 1 - score</td>\n",
       "      <td>3</td>\n",
       "    </tr>\n",
       "  </tbody>\n",
       "</table>\n",
       "<p>105 rows × 5 columns</p>\n",
       "</div>"
      ],
      "text/plain": [
       "        Name  id Chapter Tag                    Test_name Score\n",
       "0    Darshan  34       C8S11       Concept Test 1 - score     4\n",
       "1    Darshan  34       C8S11  Full Chapter Test 1 - score     6\n",
       "2    Darshan  34       C8S11       Concept Test 5 - score     3\n",
       "3    Darshan  34       C8S11       Concept Test 2 - score     1\n",
       "4    Darshan  34       C8S11  Full Chapter Test 2 - score     6\n",
       "..       ...  ..         ...                          ...   ...\n",
       "100  Vignesh  47       C8S11       Concept Test 3 - score     1\n",
       "101  Vignesh  47       C8S11         Topic Test 2 - score     6\n",
       "102  Vignesh  47       C8S11       Concept Test 1 - score     3\n",
       "103  Vignesh  47       C8S11       Concept Test 4 - score     2\n",
       "104  Vignesh  47       C8S11         Topic Test 1 - score     3\n",
       "\n",
       "[105 rows x 5 columns]"
      ]
     },
     "execution_count": 4,
     "metadata": {},
     "output_type": "execute_result"
    }
   ],
   "source": [
    "# dropping the \"-\" records for students who didnt attend the test\n",
    "\n",
    "df1.drop(df1.loc[df1['Score']==\"-\"].index, inplace=True)\n",
    "\n",
    "#sorting the values by alphabatic order\n",
    "\n",
    "df1=df1.sort_values(\"Name\",ignore_index=True)\n",
    "df1"
   ]
  },
  {
   "cell_type": "code",
   "execution_count": 5,
   "metadata": {},
   "outputs": [
    {
     "data": {
      "text/plain": [
       "0  Name                                     Darshan\n",
       "   id                                            34\n",
       "   Chapter Tag                                C8S11\n",
       "   Concept Test 1 - score                         4\n",
       "   Concept Test 1 - time-taken (seconds)        118\n",
       "   Concept Test 1 - answered                      4\n",
       "   Concept Test 1- correct                        4\n",
       "   Concept Test 1- wrong                          0\n",
       "   Concept Test 1- skipped                        1\n",
       "   Concept Test 2 - score                         1\n",
       "dtype: object"
      ]
     },
     "execution_count": 5,
     "metadata": {},
     "output_type": "execute_result"
    }
   ],
   "source": [
    "df.stack().head(10)\n"
   ]
  },
  {
   "cell_type": "code",
   "execution_count": null,
   "metadata": {},
   "outputs": [],
   "source": []
  }
 ],
 "metadata": {
  "kernelspec": {
   "display_name": "Python 3 (ipykernel)",
   "language": "python",
   "name": "python3"
  },
  "language_info": {
   "codemirror_mode": {
    "name": "ipython",
    "version": 3
   },
   "file_extension": ".py",
   "mimetype": "text/x-python",
   "name": "python",
   "nbconvert_exporter": "python",
   "pygments_lexer": "ipython3",
   "version": "3.10.6"
  },
  "vscode": {
   "interpreter": {
    "hash": "916dbcbb3f70747c44a77c7bcd40155683ae19c65e1c03b4aa3499c5328201f1"
   }
  }
 },
 "nbformat": 4,
 "nbformat_minor": 2
}
